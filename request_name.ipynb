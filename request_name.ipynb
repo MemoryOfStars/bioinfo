{
 "cells": [
  {
   "cell_type": "code",
   "execution_count": 1,
   "metadata": {},
   "outputs": [],
   "source": [
    "import os\n",
    "import requests\n",
    "import numpy as np\n",
    "import pandas as pd"
   ]
  },
  {
   "cell_type": "code",
   "execution_count": 3,
   "metadata": {
    "scrolled": true
   },
   "outputs": [],
   "source": [
    "filePath = './pdbbind_v2019_refined/refined-set/'\n",
    "a = os.listdir(filePath)\n",
    "for i in range(len(a)):\n",
    "    a[i] = a[i].upper()"
   ]
  },
  {
   "cell_type": "code",
   "execution_count": 4,
   "metadata": {},
   "outputs": [],
   "source": [
    "for i in a:\n",
    "    url = 'https://files.rcsb.org/download/'+i+'.pdb'\n",
    "    #将请求到内容写入到文件当中\n",
    "    with open(\"./positive_raw_data/\"+i+\".pdb\", \"wb+\") as f:\n",
    "        f.write(requests.get(url).content)"
   ]
  }
 ],
 "metadata": {
  "kernelspec": {
   "display_name": "Python 3",
   "language": "python",
   "name": "python3"
  },
  "language_info": {
   "codemirror_mode": {
    "name": "ipython",
    "version": 3
   },
   "file_extension": ".py",
   "mimetype": "text/x-python",
   "name": "python",
   "nbconvert_exporter": "python",
   "pygments_lexer": "ipython3",
   "version": "3.7.6"
  }
 },
 "nbformat": 4,
 "nbformat_minor": 4
}

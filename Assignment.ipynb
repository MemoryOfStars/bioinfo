{
 "cells": [
  {
   "cell_type": "markdown",
   "metadata": {},
   "source": [
    "# 1.sshを使ったリモートログイン"
   ]
  },
  {
   "cell_type": "markdown",
   "metadata": {},
   "source": [
    "\n",
    ">（2）マシンBのホームディレクトリ直下に（　①.ssh　）というディレクトリを作成してさらに（　③authorized_keys　）というファイルをそこに設置する。この（　③authorized_keys　）ファイルに、マシンAにある（　②：公開鍵　）のファイルの中身をコピーする（すでに（　③authorized_keys　）が存在している場合は改行して下にその情報を加える）。\n",
    "\n",
    ">（3）各ディレクトリとファイルのパーミッションを適切に設定する。マシンBのホームディレクトリのパーミッションは（　④755　）、マシンBの（　①.ssh　）ディレクトリのパーミッションは（　⑤700　）、マシンBの（　②公開鍵　）ディレクトリのパーミッションは（　⑥600　）、マシンBの（　③authorized_keys　）ファイルのパーミッションは（　⑦600　）にする。そしてマシンAの（　⑧：公開鍵　）のパーミッションは（　⑨600　）とする。\n"
   ]
  },
  {
   "cell_type": "markdown",
   "metadata": {},
   "source": [
    "# 2.現行のタンパク質構造情報ファイル形式に慣れる"
   ]
  },
  {
   "cell_type": "markdown",
   "metadata": {},
   "source": [
    "### 1.カラムの12~13文字目に存在するCA, CB, CD(CD1, CD2), CG, C, O, Nはアミノ酸構造上で何を表しているか、化学的な命名法で答えよ。\n",
    "\n",
    "> 原子の名前を表している\n",
    ">CA:α炭素　\n",
    ">CB：β炭素　\n",
    ">CD：δ炭素\n",
    ">CG：γ炭素\n",
    ">C：炭素\n",
    ">O：酸素\n",
    ">N：窒素\n",
    ">Cを一文字目にした原子は全部炭素であり、後の文字はこの原子とアミンの間の距離を表す\n",
    "\n",
    "### 2.22文字めのAは何を意味するか答えよ。\n",
    "\n",
    ">Chain idを表す、タンパク質の複数のchainを表示するidentifierである\n",
    "\n",
    "### 3.17文字めにAまたはBが存在する場合(可替位置标识符）。これは何を意味するか答えよ。またこのとき55-60文字目（原子占有率【occupancy】）の値はどうなっているか。\n",
    "\n",
    ">このlocationはAとBこの二つの残基に占めていることを表す。55-60文字目は残基のoccupancy rateを表している、\n",
    "AとBがあれば、AとB残基のoccupancy rateを足せば1.00になります\n",
    "\n",
    "### 4.61-66文字目の数字は何を意味するか、その物理化学的な意味を答えよ。値が高いことと低いことはそれぞれ何を意味するか？\n",
    "\n",
    ">Temperature factorを表している。熱振動によるX線や中性子の散乱強度の減衰を表す因子のこと。\n",
    "値が高ければ、原子が熱振動によって位置の不確定性が高まり、原子が動きやすいので、out-of-order状態になっている。\n",
    "値が低ければ、原子位置の信頼性が高まり、well ordered状態になっている。\n",
    "\n",
    "### 5.3QUGに結合しているアミノ酸以外の分子は何か。結晶化剤と本来のリガンドを分けて答えよ。\n",
    ">リガンド：\n",
    "  GIX(Valid)　GOL(Invalid)　SO4(Invalid)\n",
    "\n",
    ">結晶化剤:\n",
    "  PEG-MME 2000 (25-29%), Sodium Acetate/Acetic Acid 0.1M, Ammonium Sulfate 0.2M\n",
    "\n"
   ]
  },
  {
   "cell_type": "markdown",
   "metadata": {},
   "source": [
    "# 3.プログラミング入門"
   ]
  },
  {
   "cell_type": "markdown",
   "metadata": {},
   "source": [
    "(1)弱智数列题\n",
    "* 给定一个长度为N的数列\n",
    "* 输入一个N的因数K\n",
    "* 输入一个数X\n",
    "* 判断数列的第N/K项是不是X\n",
    "* 输出结果（yes/no）\n",
    "\n",
    ">输入样例\n",
    "\n",
    ">6 2 3\n",
    "\n",
    ">0 1 2 3 4 5\n",
    "\n",
    ">输出：\n",
    "yes"
   ]
  },
  {
   "cell_type": "code",
   "execution_count": 22,
   "metadata": {},
   "outputs": [
    {
     "name": "stdout",
     "output_type": "stream",
     "text": [
      "input N K X:8 4 36\n",
      "input array:213456 123456 36 456798456 45646546 45648 789798 456798\n",
      "Yes\n",
      "\n"
     ]
    }
   ],
   "source": [
    "'''\n",
    "2020/4/3\n",
    "Author:Guo Mingxuan\n",
    "\n",
    "'''\n",
    "def ancestor_sequence():\n",
    "    #input\n",
    "    try:\n",
    "        str_NKX = list(map(int,input(\"input N K X:\").split()))\n",
    "        str_array = list(map(int,input(\"input array:\").split()))\n",
    "    except Exception:\n",
    "        print('error occured\\n')\n",
    "        return\n",
    "    N = str_NKX[0]\n",
    "    K = str_NKX[1]\n",
    "    X = str_NKX[2]\n",
    "    if N>len(str_array):\n",
    "        print(\"N error\\n\")\n",
    "        return\n",
    "    elif N%K != 0:\n",
    "        print(\"K error\\n\")\n",
    "        return\n",
    "    else:\n",
    "        #Compare\n",
    "        if X==str_array[int(N/K)]:\n",
    "            print(\"Yes\\n\")\n",
    "        else:\n",
    "            print(\"No\\n\")\n",
    "\n",
    "if __name__ == '__main__':\n",
    "    ancestor_sequence()"
   ]
  },
  {
   "cell_type": "markdown",
   "metadata": {},
   "source": [
    "(2)弱智算法题\n",
    "* 给出一对数A B\n",
    "* 输出大于等于A小于等于B的数\n",
    "* 其中如果有带3的或者能被3整除的数都输出Omorrow!\n",
    "####     IO样例\n",
    "input：1 6\n",
    "output：\n",
    ">1  \n",
    ">2  \n",
    ">Omorrow!  \n",
    ">4  \n",
    ">5  \n",
    ">Omorrow!"
   ]
  },
  {
   "cell_type": "code",
   "execution_count": 28,
   "metadata": {},
   "outputs": [
    {
     "name": "stdout",
     "output_type": "stream",
     "text": [
      "input A B:110 120\n",
      "110\n",
      "Omorrow!\n",
      "112\n",
      "Omorrow!\n",
      "Omorrow!\n",
      "115\n",
      "116\n",
      "Omorrow!\n",
      "118\n",
      "119\n",
      "Omorrow!\n"
     ]
    }
   ],
   "source": [
    "'''\n",
    "2020/4/3\n",
    "Author:Guo Mingxuan\n",
    "\n",
    "'''\n",
    "def fizz_buzz():\n",
    "    #input\n",
    "    try:\n",
    "        limit = list(map(int,input(\"input A B:\").split()))\n",
    "    except Exception:\n",
    "        print('error occured\\n')\n",
    "        return\n",
    "    A = limit[0]\n",
    "    B = limit[1]\n",
    "    if A>B or B > 5000 or A<1:\n",
    "        print('invalid A or B\\n')\n",
    "        return\n",
    "    for i in range(A,B+1):\n",
    "        if i%3 == 0:\n",
    "            print('Omorrow!')\n",
    "        else:\n",
    "            i_str = str(i)\n",
    "            flag = True\n",
    "            #桁ごとにチェック\n",
    "            for j in i_str:\n",
    "                if j == '3':\n",
    "                    print('Omorrow!')\n",
    "                    flag = False\n",
    "            if flag:\n",
    "                print(i)\n",
    "    \n",
    "    \n",
    "if __name__ == \"__main__\":\n",
    "    fizz_buzz()"
   ]
  },
  {
   "cell_type": "markdown",
   "metadata": {},
   "source": [
    "（3） Joyman String / ジョイマン文字列\n",
    "\n",
    "求两个字符串最长匹配的后缀的长度"
   ]
  },
  {
   "cell_type": "code",
   "execution_count": 41,
   "metadata": {
    "scrolled": true
   },
   "outputs": [
    {
     "name": "stdout",
     "output_type": "stream",
     "text": [
      "input S:dsa\n",
      "input T:dsa\n",
      "not in alphabet\n"
     ]
    }
   ],
   "source": [
    "'''\n",
    "2020/4/3\n",
    "Author:Guo Mingxuan\n",
    "\n",
    "'''\n",
    "def joyman():\n",
    "    #input\n",
    "    try:\n",
    "        str_S = input(\"input S:\")\n",
    "        str_T = input(\"input T:\")\n",
    "    except Exception:\n",
    "        print('error occured\\n')\n",
    "        return\n",
    "    alphabet = {'A','C','D','E','F','G','H','I','K','L','M','N','P','Q','R','S','T','V','W','Y'}\n",
    "    for i in str_S:\n",
    "        if i not in alphabet:\n",
    "            print('not in alphabet')\n",
    "            return\n",
    "    for i in str_T:\n",
    "        if i not in alphabet:\n",
    "            print('not in alphabet')\n",
    "            return\n",
    "    if len(str_S)==0 or len(str_S)>5000 or len(str_T) == 0 or len(str_T)>5000:\n",
    "        print(\"String length out of bound\")\n",
    "        return\n",
    "    pointer_S = len(str_S)-1\n",
    "    pointer_T = len(str_T)-1\n",
    "    k = 0\n",
    "    while pointer_S>=0 and pointer_T>=0 and str_S[pointer_S] == str_T[pointer_T]:\n",
    "        k += 1\n",
    "        pointer_S -= 1\n",
    "        pointer_T -= 1\n",
    "    print(k)\n",
    "    print(str_S[len(str_S)-k:])\n",
    "if __name__ == \"__main__\":\n",
    "    joyman()  "
   ]
  },
  {
   "cell_type": "code",
   "execution_count": null,
   "metadata": {},
   "outputs": [],
   "source": []
  }
 ],
 "metadata": {
  "kernelspec": {
   "display_name": "Python 3",
   "language": "python",
   "name": "python3"
  },
  "language_info": {
   "codemirror_mode": {
    "name": "ipython",
    "version": 3
   },
   "file_extension": ".py",
   "mimetype": "text/x-python",
   "name": "python",
   "nbconvert_exporter": "python",
   "pygments_lexer": "ipython3",
   "version": "3.7.4"
  }
 },
 "nbformat": 4,
 "nbformat_minor": 2
}

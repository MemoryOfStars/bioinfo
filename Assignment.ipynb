{
 "cells": [
  {
   "cell_type": "markdown",
   "metadata": {},
   "source": [
    "# 1.sshを使ったリモートログイン"
   ]
  },
  {
   "cell_type": "markdown",
   "metadata": {},
   "source": [
    "\n",
    ">（2）マシンBのホームディレクトリ直下に（　①.ssh　）というディレクトリを作成してさらに（　③authorized_keys　）というファイルをそこに設置する。この（　③authorized_keys　）ファイルに、マシンAにある（　②：公開鍵　）のファイルの中身をコピーする（すでに（　③authorized_keys　）が存在している場合は改行して下にその情報を加える）。\n",
    "\n",
    ">（3）各ディレクトリとファイルのパーミッションを適切に設定する。マシンBのホームディレクトリのパーミッションは（　④755　）、マシンBの（　①.ssh　）ディレクトリのパーミッションは（　⑤700　）、マシンBの（　②公開鍵　）ディレクトリのパーミッションは（　⑥600　）、マシンBの（　③authorized_keys　）ファイルのパーミッションは（　⑦600　）にする。そしてマシンAの（　⑧：公開鍵　）のパーミッションは（　⑨600　）とする。\n"
   ]
  },
  {
   "cell_type": "markdown",
   "metadata": {},
   "source": [
    "# 2.現行のタンパク質構造情報ファイル形式に慣れる"
   ]
  },
  {
   "cell_type": "markdown",
   "metadata": {},
   "source": [
    "### 1.カラムの12~13文字目に存在するCA, CB, CD(CD1, CD2), CG, C, O, Nはアミノ酸構造上で何を表しているか、化学的な命名法で答えよ。\n",
    "\n",
    "> 原子の名前を表している\n",
    ">CA:α炭素　\n",
    ">CB：β炭素　\n",
    ">CD：δ炭素\n",
    ">CG：γ炭素\n",
    ">C：炭素\n",
    ">O：酸素\n",
    ">N：窒素\n",
    ">Cを一文字目にした原子は全部炭素であり、後の文字はこの原子とアミンの間の距離を表す\n",
    "\n",
    "### 2.22文字めのAは何を意味するか答えよ。\n",
    "\n",
    ">Chain idを表す、タンパク質の複数のchainを表示するidentifierである\n",
    "\n",
    "### 3.17文字めにAまたはBが存在する場合(可替位置标识符）。これは何を意味するか答えよ。またこのとき55-60文字目（原子占有率【occupancy】）の値はどうなっているか。\n",
    "\n",
    ">このlocationはAとBこの二つの残基に占めていることを表す。55-60文字目は残基のoccupancy rateを表している、\n",
    "AとBがあれば、AとB残基のoccupancy rateを足せば1.00になります\n",
    "\n",
    "### 4.61-66文字目の数字は何を意味するか、その物理化学的な意味を答えよ。値が高いことと低いことはそれぞれ何を意味するか？\n",
    "\n",
    ">Temperature factorを表している。熱振動によるX線や中性子の散乱強度の減衰を表す因子のこと。\n",
    "値が高ければ、原子が熱振動によって位置の不確定性が高まり、原子が動きやすいので、out-of-order状態になっている。\n",
    "値が低ければ、原子位置の信頼性が高まり、well ordered状態になっている。\n",
    "\n",
    "### 5.3QUGに結合しているアミノ酸以外の分子は何か。結晶化剤と本来のリガンドを分けて答えよ。\n",
    ">リガンド：\n",
    "  GIX(Valid)　GOL(Invalid)　SO4(Invalid)\n",
    "\n",
    ">結晶化剤:\n",
    "  PEG-MME 2000 (25-29%), Sodium Acetate/Acetic Acid 0.1M, Ammonium Sulfate 0.2M\n",
    "\n"
   ]
  },
  {
   "cell_type": "markdown",
   "metadata": {},
   "source": [
    "# 3.プログラミング入門"
   ]
  },
  {
   "cell_type": "markdown",
   "metadata": {},
   "source": [
    "(1)弱智数列题\n",
    "* 给定一个长度为N的数列\n",
    "* 输入一个N的因数K\n",
    "* 输入一个数X\n",
    "* 判断数列的第N/K项是不是X\n",
    "* 输出结果（yes/no）\n",
    "\n",
    ">输入样例\n",
    "\n",
    ">6 2 3\n",
    "\n",
    ">0 1 2 3 4 5\n",
    "\n",
    ">输出：\n",
    "yes"
   ]
  },
  {
   "cell_type": "code",
   "execution_count": 22,
   "metadata": {},
   "outputs": [
    {
     "name": "stdout",
     "output_type": "stream",
     "text": [
      "input N K X:8 4 36\n",
      "input array:213456 123456 36 456798456 45646546 45648 789798 456798\n",
      "Yes\n",
      "\n"
     ]
    }
   ],
   "source": [
    "'''\n",
    "2020/4/3\n",
    "Author:Guo Mingxuan\n",
    "\n",
    "'''\n",
    "def ancestor_sequence():\n",
    "    #input\n",
    "    try:\n",
    "        str_NKX = list(map(int,input(\"input N K X:\").split()))\n",
    "        str_array = list(map(int,input(\"input array:\").split()))\n",
    "    except Exception:\n",
    "        print('error occured\\n')\n",
    "        return\n",
    "    N = str_NKX[0]\n",
    "    K = str_NKX[1]\n",
    "    X = str_NKX[2]\n",
    "    if N>len(str_array):\n",
    "        print(\"N error\\n\")\n",
    "        return\n",
    "    elif N%K != 0:\n",
    "        print(\"K error\\n\")\n",
    "        return\n",
    "    else:\n",
    "        #Compare\n",
    "        if X==str_array[int(N/K)]:\n",
    "            print(\"Yes\\n\")\n",
    "        else:\n",
    "            print(\"No\\n\")\n",
    "\n",
    "if __name__ == '__main__':\n",
    "    ancestor_sequence()"
   ]
  },
  {
   "cell_type": "markdown",
   "metadata": {},
   "source": [
    "(2)弱智算法题\n",
    "* 给出一对数A B\n",
    "* 输出大于等于A小于等于B的数\n",
    "* 其中如果有带3的或者能被3整除的数都输出Omorrow!\n",
    "####     IO样例\n",
    "input：1 6\n",
    "output：\n",
    ">1  \n",
    ">2  \n",
    ">Omorrow!  \n",
    ">4  \n",
    ">5  \n",
    ">Omorrow!"
   ]
  },
  {
   "cell_type": "code",
   "execution_count": 28,
   "metadata": {},
   "outputs": [
    {
     "name": "stdout",
     "output_type": "stream",
     "text": [
      "input A B:110 120\n",
      "110\n",
      "Omorrow!\n",
      "112\n",
      "Omorrow!\n",
      "Omorrow!\n",
      "115\n",
      "116\n",
      "Omorrow!\n",
      "118\n",
      "119\n",
      "Omorrow!\n"
     ]
    }
   ],
   "source": [
    "'''\n",
    "2020/4/3\n",
    "Author:Guo Mingxuan\n",
    "\n",
    "'''\n",
    "def fizz_buzz():\n",
    "    #input\n",
    "    try:\n",
    "        limit = list(map(int,input(\"input A B:\").split()))\n",
    "    except Exception:\n",
    "        print('error occured\\n')\n",
    "        return\n",
    "    A = limit[0]\n",
    "    B = limit[1]\n",
    "    if A>B or B > 5000 or A<1:\n",
    "        print('invalid A or B\\n')\n",
    "        return\n",
    "    for i in range(A,B+1):\n",
    "        if i%3 == 0:\n",
    "            print('Omorrow!')\n",
    "        else:\n",
    "            i_str = str(i)\n",
    "            flag = True\n",
    "            #桁ごとにチェック\n",
    "            for j in i_str:\n",
    "                if j == '3':\n",
    "                    print('Omorrow!')\n",
    "                    flag = False\n",
    "            if flag:\n",
    "                print(i)\n",
    "    \n",
    "    \n",
    "if __name__ == \"__main__\":\n",
    "    fizz_buzz()"
   ]
  },
  {
   "cell_type": "markdown",
   "metadata": {},
   "source": [
    "（3） Joyman String / ジョイマン文字列\n",
    "\n",
    "求两个字符串最长匹配的后缀的长度"
   ]
  },
  {
   "cell_type": "code",
   "execution_count": 41,
   "metadata": {
    "scrolled": true
   },
   "outputs": [
    {
     "name": "stdout",
     "output_type": "stream",
     "text": [
      "input S:dsa\n",
      "input T:dsa\n",
      "not in alphabet\n"
     ]
    }
   ],
   "source": [
    "'''\n",
    "2020/4/3\n",
    "Author:Guo Mingxuan\n",
    "\n",
    "'''\n",
    "def joyman():\n",
    "    #input\n",
    "    try:\n",
    "        str_S = input(\"input S:\")\n",
    "        str_T = input(\"input T:\")\n",
    "    except Exception:\n",
    "        print('error occured\\n')\n",
    "        return\n",
    "    alphabet = {'A','C','D','E','F','G','H','I','K','L','M','N','P','Q','R','S','T','V','W','Y'}\n",
    "    for i in str_S:\n",
    "        if i not in alphabet:\n",
    "            print('not in alphabet')\n",
    "            return\n",
    "    for i in str_T:\n",
    "        if i not in alphabet:\n",
    "            print('not in alphabet')\n",
    "            return\n",
    "    if len(str_S)==0 or len(str_S)>5000 or len(str_T) == 0 or len(str_T)>5000:\n",
    "        print(\"String length out of bound\")\n",
    "        return\n",
    "    pointer_S = len(str_S)-1\n",
    "    pointer_T = len(str_T)-1\n",
    "    k = 0\n",
    "    while pointer_S>=0 and pointer_T>=0 and str_S[pointer_S] == str_T[pointer_T]:\n",
    "        k += 1\n",
    "        pointer_S -= 1\n",
    "        pointer_T -= 1\n",
    "    print(k)\n",
    "    print(str_S[len(str_S)-k:])\n",
    "if __name__ == \"__main__\":\n",
    "    joyman()  "
   ]
  },
  {
   "cell_type": "markdown",
   "metadata": {},
   "source": [
    "# 4.配列解析"
   ]
  },
  {
   "cell_type": "code",
   "execution_count": null,
   "metadata": {},
   "outputs": [],
   "source": [
    "## D-1\n",
    "（1）DNA配列TGCTCGTAとTTCATAのGlobal Pairwise alignmentを考える.\n",
    "    gap opening penalty = 0    gap extension penalty = 6\n",
    "    \n",
    "   #### command\n",
    "    \n",
    "     s_D1 <- DNAString(\"TGCTCGTA\")\n",
    "     s_D1_2 <- DNAString(\"TTCATA\")\n",
    "     pairwiseAlignment(s_D1, s_D1_2, substitutionMatrix = mat_D1, gapOpening = 0, gapExtension = 6)\n",
    "    \n",
    "   #### output\n",
    "    \n",
    "     Global PairwiseAlignmentsSingleSubject (1 of 1)\n",
    "     pattern: TGCTCGTA\n",
    "     subject: T--TCATA\n",
    "     score: 11\n",
    "（2） (1)のスコアが動的計画法を用いてどのように決定されたかを知るために、動的計画法でよく用いられる下図の空欄を埋めて(1)と同じスコアになることを確かめなさい。プログラミングして図のセルを埋めてもらっても結構です。\n",
    "（3）上のアミノ酸配列比較の例ではBLOSUM62というスコア行列が使われていたが、他にはPAM行列も存在する。また、BLOSUMはBLOSUM50やBLOSUM80なども存在する。それぞれどのような特徴があるか調べて説明しなさい。\n",
    "PAM：「1」global alignmentに基づいて計算された\n",
    "　　 「2」PAMの後についた数字は配列の間の相違を表す、大きい数字は比較的に小さい類似性を持つ配列ペアに使う\n",
    "    「3」PAM－N（N>1）はPAM-1によって計算された\n",
    "BLOSUM：「1」local alignmentにもとづいて計算された\n",
    "      「2」BLOSUMの後についた数字は配列ペアの類似性を表す\n",
    "      「3」どのBLOSUMもalignmentに基づいて計算された\n",
    "（4）上のアミノ酸配列比較の例SHIMANEKENとWAKAYAMAKENで表示されているスコアSCORE: 1がどのように算出されたものか、簡単な数式を使って説明しなさい。\n",
    "BLOSUM62を参照して、以下のalignmentのscoreを計算する\n",
    " SHIMANEKEN\n",
    "WAKAYAMAKEN\n",
    "\n",
    "-  W   -14 = gapOpening + 1 * gapExtension  \n",
    "S  A   +1  \n",
    "H  K   -1  \n",
    "I  A   -1  \n",
    "M  Y   -1  \n",
    "A  A   +4  \n",
    "N  M   -2  \n",
    "E  A   -1  \n",
    "K  K   +5  \n",
    "E  E   +5  \n",
    "N  N   +6  \n",
    "____________\n",
    "       1"
   ]
  },
  {
   "cell_type": "markdown",
   "metadata": {},
   "source": [
    "## D-2"
   ]
  },
  {
   "cell_type": "markdown",
   "metadata": {},
   "source": [
    "计算每一个column处的信息熵，选出保存的最好的5个位置并按顺序输出（信息熵小）"
   ]
  },
  {
   "cell_type": "code",
   "execution_count": 32,
   "metadata": {},
   "outputs": [
    {
     "name": "stdout",
     "output_type": "stream",
     "text": [
      "[1.99091104 1.99738299 1.99275028 1.99177414 1.99298285 1.99602052\n",
      " 1.99004554 1.99440398 1.9957421  1.99102164 1.99510414 1.99608096\n",
      " 1.98984965 1.99107037 1.99686866 1.99157414 1.9902892  1.99643447\n",
      " 1.98586413 1.99213951 1.99680247 1.99361492 1.99439501 1.99516554\n",
      " 1.98707034 1.99511105 1.99767424 1.99318943 1.99372305 1.9970622\n",
      " 1.99200247 1.99493557 1.99724275 1.98891676 1.99215318 1.99886218\n",
      " 1.99064017 1.99405675 1.99888272 1.9912274  1.99325303 1.9958372\n",
      " 1.99034398 1.99662802 1.99643208 1.99357211 1.99508641 1.9953271\n",
      " 1.99427626 1.9951566  1.99563894 1.99205804 1.99432476 1.99755136\n",
      " 1.99130679 1.99271937 1.99621848 1.99484606 1.99547682 1.99559586\n",
      " 1.98891437 1.99557824 1.99675871 1.98636577 1.9919868  1.99494001\n",
      " 1.98812519 1.99293226 1.99544863 1.98663156 1.98847434 1.99617804\n",
      " 1.98563195 1.9883108  1.99012196 1.97518408 1.97983025 1.9873864\n",
      " 1.97309411 1.96010453 1.97282431 1.95454839 1.96371931 1.95476718\n",
      " 1.94344127 1.951732   1.9545412  1.94667244 1.9090889  1.78383561\n",
      " 1.68304126 1.56780998 1.73256004 1.87355889 1.94358285 1.95529136\n",
      " 1.94927803 1.89793937 1.93803281 1.96103609]\n",
      "[91 90 92 89 93]\n"
     ]
    }
   ],
   "source": [
    "'''\n",
    "2020/4/4\n",
    "Author:Guo Mingxuan\n",
    "'''\n",
    "import numpy as np\n",
    "from math import log2\n",
    "\n",
    "text = []\n",
    "#open txt file\n",
    "with open(\"kadai2_2.txt\") as f:\n",
    "    for line in f.readlines():\n",
    "          line = line.strip('\\n')\n",
    "          text.append(line)\n",
    "\n",
    "sequences = np.array(text)            \n",
    "entropy = np.zeros(len(sequences[0])) #entropy for every column\n",
    "total_row = sequences.shape[0]        #total rows\n",
    "nucleotide = ['a','c','g','t']\n",
    "count_dict = {}.fromkeys(nucleotide, 0) #initialize dict from key-value\n",
    "\n",
    "for i in range(len(sequences[0])):\n",
    "    for j in range(total_row):\n",
    "        count_dict[sequences[j][i]] += 1\n",
    "    pa = count_dict['a']/total_row\n",
    "    pc = count_dict['c']/total_row\n",
    "    pg = count_dict['g']/total_row\n",
    "    pt = count_dict['t']/total_row    #calculate P(A) etc.\n",
    "\n",
    "    entropy[i] = -pa*log2(pa)-pc*log2(pc)-pg*log2(pg)-pt*log2(pt)   #calculate entropy for every column\n",
    "    count_dict = {}.fromkeys(nucleotide, 0)                          #set to zero\n",
    "\n",
    "sorted_index = entropy.argsort()      #return indexes in the order from small to large\n",
    "print(sorted_index[0:5])\n",
    "\n"
   ]
  },
  {
   "cell_type": "markdown",
   "metadata": {},
   "source": [
    "# 5.機械学習についての基本知識 "
   ]
  },
  {
   "cell_type": "markdown",
   "metadata": {},
   "source": [
    "（1）\n",
    "Accuracy = (1820 + 17285)/(1820+524+83+17285) = 0.9692065746753247\n",
    "Precision = 1820/(1820+524) = 0.7764505119453925\n",
    "Recall = 1820/(1820+83) = 0.9563846558066211\n",
    "F-measure = 2 * Precision * Recall/(Precision + Recall) = 0.8570755827643042"
   ]
  },
  {
   "cell_type": "code",
   "execution_count": 7,
   "metadata": {},
   "outputs": [
    {
     "name": "stdout",
     "output_type": "stream",
     "text": [
      "0.8570755827643042\n"
     ]
    }
   ],
   "source": [
    "Precision = 0.7764505119453925\n",
    "Recall = 0.9563846558066211\n",
    "F_measure = 2 * Precision * Recall/(Precision + Recall)\n",
    "print(F_measure)"
   ]
  }
 ],
 "metadata": {
  "kernelspec": {
   "display_name": "Python 3",
   "language": "python",
   "name": "python3"
  },
  "language_info": {
   "codemirror_mode": {
    "name": "ipython",
    "version": 3
   },
   "file_extension": ".py",
   "mimetype": "text/x-python",
   "name": "python",
   "nbconvert_exporter": "python",
   "pygments_lexer": "ipython3",
   "version": "3.7.4"
  }
 },
 "nbformat": 4,
 "nbformat_minor": 2
}

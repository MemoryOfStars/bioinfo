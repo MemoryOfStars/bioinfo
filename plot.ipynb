{
 "cells": [
  {
   "cell_type": "code",
   "execution_count": 1,
   "metadata": {},
   "outputs": [],
   "source": [
    "import pandas as pd\n",
    "import os\n",
    "import numpy as np"
   ]
  },
  {
   "cell_type": "code",
   "execution_count": 16,
   "metadata": {},
   "outputs": [
    {
     "data": {
      "text/plain": [
       "{'N': 3317375,\n",
       " 'C': 12389727,\n",
       " 'O': 3655138,\n",
       " 'S': 94767,\n",
       " 'H': 825100,\n",
       " 'P': 2094,\n",
       " 'F': 1711,\n",
       " 'CL': 1153,\n",
       " 'I': 67,\n",
       " 'MG': 18,\n",
       " 'BR': 229,\n",
       " 'CA': 85,\n",
       " 'NI': 12,\n",
       " 'NA': 38,\n",
       " 'CD': 44,\n",
       " 'MN': 7,\n",
       " 'ZN': 116,\n",
       " 'LI': 1,\n",
       " 'HG': 3,\n",
       " 'FE': 1,\n",
       " 'K': 32,\n",
       " 'CU': 2}"
      ]
     },
     "execution_count": 16,
     "metadata": {},
     "output_type": "execute_result"
    }
   ],
   "source": [
    "elements = []\n",
    "ele = ['N', 'C', 'O', 'S', 'H', 'P', 'F', 'CL', 'I', 'MG', 'BR', 'CA', 'NI', 'NA', 'CD', 'MN', 'ZN', 'LI', 'HG', 'FE', 'K', 'CU']\n",
    "ele_dict = {}.fromkeys(ele, 0)\n",
    "delete_pdb = []\n",
    "for pdb_name in os.listdir('./positive_truncated_data/'):\n",
    "    with open('./positive_truncated_data/'+pdb_name) as pdb_file:\n",
    "        for i in pdb_file.readlines():\n",
    "            if i[:4] == 'ATOM' or i[:6] == 'HETATM':\n",
    "                if i[76:78].strip() not in elements:\n",
    "                    elements.append(i[76:78].strip())\n",
    "                if i[76:78].strip() in ele:\n",
    "                    ele_dict[i[76:78].strip()] += 1\n",
    "ele_dict"
   ]
  },
  {
   "cell_type": "code",
   "execution_count": 8,
   "metadata": {},
   "outputs": [
    {
     "data": {
      "text/plain": [
       "32"
      ]
     },
     "execution_count": 8,
     "metadata": {},
     "output_type": "execute_result"
    }
   ],
   "source": [
    "len(delete_pdb)"
   ]
  },
  {
   "cell_type": "code",
   "execution_count": 9,
   "metadata": {},
   "outputs": [],
   "source": [
    "for dele in delete_pdb:\n",
    "    os.remove('./positive_truncated_data/'+dele)"
   ]
  },
  {
   "cell_type": "code",
   "execution_count": 14,
   "metadata": {},
   "outputs": [],
   "source": [
    "for dele in os.listdir('./pdbbind_v2019_refined/refined-set/'):\n",
    "    if dele.upper()+'.pdb' not in os.listdir('./positive_truncated_data/'):\n",
    "        for f in os.listdir('./pdbbind_v2019_refined/refined-set/'+dele):\n",
    "            os.remove('./pdbbind_v2019_refined/refined-set/'+dele+'/'+f)\n",
    "        os.removedirs('./pdbbind_v2019_refined/refined-set/'+dele)"
   ]
  },
  {
   "cell_type": "code",
   "execution_count": 20,
   "metadata": {},
   "outputs": [],
   "source": [
    "import seaborn as sns\n",
    "from matplotlib import pyplot as plt"
   ]
  },
  {
   "cell_type": "code",
   "execution_count": 29,
   "metadata": {},
   "outputs": [
    {
     "data": {
      "image/png": "[encoded data removed]",
      "text/plain": [
       "<Figure size 432x288 with 1 Axes>"
      ]
     },
     "metadata": {
      "needs_background": "light"
     },
     "output_type": "display_data"
    }
   ],
   "source": [
    "new_dict = {}\n",
    "for i in ele_dict:\n",
    "    if i!='C' and i!='N' and i!='O' and i!='H' and i!='S':\n",
    "        new_dict[i] = ele_dict[i]\n",
    "plt.bar([i for i in new_dict], [ele_dict[i] for i in new_dict])\n",
    "plt.savefig('element_density.jpg', dpi=400)"
   ]
  }
 ],
 "metadata": {
  "kernelspec": {
   "display_name": "Python 3",
   "language": "python",
   "name": "python3"
  },
  "language_info": {
   "codemirror_mode": {
    "name": "ipython",
    "version": 3
   },
   "file_extension": ".py",
   "mimetype": "text/x-python",
   "name": "python",
   "nbconvert_exporter": "python",
   "pygments_lexer": "ipython3",
   "version": "3.7.6"
  }
 },
 "nbformat": 4,
 "nbformat_minor": 4
}
